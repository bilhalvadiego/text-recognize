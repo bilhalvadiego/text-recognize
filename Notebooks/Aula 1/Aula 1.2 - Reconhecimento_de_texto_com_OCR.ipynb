{
  "cells": [
    {
      "cell_type": "markdown",
      "metadata": {
        "id": "e7dDH6Ar-pMA"
      },
      "source": [
        "# Aula 1"
      ]
    },
    {
      "cell_type": "markdown",
      "metadata": {
        "id": "Njk5DLzl9NKx"
      },
      "source": [
        "## Introdução ao OCR"
      ]
    },
    {
      "cell_type": "markdown",
      "metadata": {
        "id": "IOIzx6fz9hq4"
      },
      "source": [
        "### Como o OCR funciona?\n",
        "* Aquisição da imagem\n",
        "* Pré-processamento\n",
        "* Reconhecimento de texto\n",
        "  - Reconhecimento de padrões\n",
        "  - Detecção de recursos\n",
        "* Pós-processamento\n",
        "\n",
        "\n",
        "\n",
        "Existem diversas ferramentas disponíveis para serem utilizadas e nós vamos utilizar o [`pytesseract`](https://pypi.org/project/pytesseract/), que é uma biblioteca do Python que permite com que possamos utilizar o [`Tesseract OCR`](https://tesseract-ocr.github.io/), que é um recurso open source da Google e funciona com a OCR Engine. Por ser um recurso open source tem um [`repositório no GitHub`](https://github.com/tesseract-ocr/tesseract), e mais de 100 línguas no seu vocabulário, além de ser possível fazer com que ele aprenda novas linguagens."
      ]
    },
    {
      "cell_type": "markdown",
      "metadata": {
        "id": "c0r-LVU7-g1g"
      },
      "source": [
        "## OCR no Colab"
      ]
    },
    {
      "cell_type": "markdown",
      "metadata": {
        "id": "9vxBYYllAYcI"
      },
      "source": [
        "As bibliotecas não são instaladas previamente no Google Colaboratory, então é necessário que a instalação seja feita utilizando o pip.\n",
        "\n",
        "\n",
        "\n",
        "```\n",
        "!pip install opencv-python==4.6.0\n",
        "!sudo apt install tesseract-ocr\n",
        "!pip install pytesseract==0.3.9\n",
        "```\n",
        "\n",
        "E os dados utilizados no curso serão importados utilizando o `!git clone` da pasta [`text-recognize`](https://github.com/sthemonica/text-recognize), afim de facilitar a importação de arquivos."
      ]
    },
    {
      "cell_type": "code",
      "execution_count": 1,
      "metadata": {
        "id": "uB-CVU3G1Irn"
      },
      "outputs": [],
      "source": [
        "import pytesseract\n",
        "import numpy as np\n",
        "import cv2\n",
        "\n",
        "import os\n",
        "os.environ['TESSDATA_PREFIX'] = '../../tessdata/'\n",
        "\n",
        "import ipywidgets as widgets\n",
        "from IPython.display import display\n",
        "import matplotlib.pyplot as plt\n",
        "from PIL import ImageFont, ImageDraw, Image\n",
        "import re"
      ]
    },
    {
      "cell_type": "code",
      "execution_count": null,
      "metadata": {},
      "outputs": [],
      "source": [
        "print(pytesseract.__version__)\n",
        "print(cv2.__version__)"
      ]
    },
    {
      "cell_type": "code",
      "execution_count": null,
      "metadata": {},
      "outputs": [],
      "source": [
        "img = cv2.imread('../../Imagens/Aula1-teste.png')\n",
        "cv2.imshow('Aula 1', img)\n",
        "cv2.waitKey(0)\n",
        "cv2.destroyAllWindows()"
      ]
    },
    {
      "cell_type": "code",
      "execution_count": null,
      "metadata": {},
      "outputs": [],
      "source": [
        "texto = pytesseract.image_to_string(img)\n",
        "print(texto)"
      ]
    },
    {
      "cell_type": "markdown",
      "metadata": {
        "id": "B39If7Dp-l0g"
      },
      "source": [
        "## Imagens BGR\n"
      ]
    },
    {
      "cell_type": "markdown",
      "metadata": {
        "id": "MUnRsSCNAPqH"
      },
      "source": [
        "O OpenCV tem seus canais de cores invertidos, então para utilizarmos com outras bibliotecas precisamos fazer a conversão de BGR para RGB. \n",
        "Existem outros tipos de conversões que podem ser feitas e a lista pode ser acessada no site da [documentação do OpenCV](https://docs.opencv.org/3.4/d8/d01/group__imgproc__color__conversions.html)."
      ]
    },
    {
      "cell_type": "code",
      "execution_count": null,
      "metadata": {
        "id": "YeGbFPSf-n7H"
      },
      "outputs": [],
      "source": [
        "img = cv2.imread('../../Imagens/Aula1-ocr.png')\n",
        "cv2.imshow('Aula 1', img)\n",
        "cv2.waitKey(0)\n",
        "cv2.destroyAllWindows()"
      ]
    },
    {
      "cell_type": "code",
      "execution_count": null,
      "metadata": {},
      "outputs": [],
      "source": [
        "rgb = cv2.cvtColor(img, cv2.COLOR_BGR2RGB)\n",
        "cv2.imshow('Aula 1', rgb)\n",
        "cv2.waitKey(0)\n",
        "cv2.destroyAllWindows()"
      ]
    },
    {
      "cell_type": "code",
      "execution_count": null,
      "metadata": {},
      "outputs": [],
      "source": [
        "gray = cv2.cvtColor(img, cv2.COLOR_BGR2GRAY)\n",
        "cv2.imshow('Aula 1', gray)\n",
        "cv2.waitKey(0)\n",
        "cv2.destroyAllWindows()"
      ]
    },
    {
      "cell_type": "code",
      "execution_count": null,
      "metadata": {},
      "outputs": [],
      "source": [
        "texto_img = pytesseract.image_to_string(img)\n",
        "print(texto_img)\n",
        "\n",
        "texto_rgb = pytesseract.image_to_string(rgb)\n",
        "print(texto_rgb)\n",
        "\n",
        "texto_gray = pytesseract.image_to_string(gray)\n",
        "print(texto_gray)"
      ]
    },
    {
      "cell_type": "markdown",
      "metadata": {
        "id": "vXZn2Kg0-rxw"
      },
      "source": [
        "# Aula 2"
      ]
    },
    {
      "cell_type": "markdown",
      "metadata": {
        "id": "G6tCg9jU-tKv"
      },
      "source": [
        "## Caracteres diferentes"
      ]
    },
    {
      "cell_type": "code",
      "execution_count": null,
      "metadata": {
        "id": "FFaj5yKM-swz"
      },
      "outputs": [],
      "source": [
        "img = cv2.imread('../../Imagens/Aula2-undersampling.png')\n",
        "# cv2.imshow('Aula 1', img)\n",
        "# cv2.waitKey(0)\n",
        "# cv2.destroyAllWindows()\n",
        "rgb = cv2.cvtColor(img, cv2.COLOR_BGR2RGB)"
      ]
    },
    {
      "cell_type": "code",
      "execution_count": null,
      "metadata": {
        "id": "9b_EuBErBMXQ"
      },
      "outputs": [],
      "source": [
        "texto = pytesseract.image_to_string(rgb)\n",
        "print(texto)"
      ]
    },
    {
      "cell_type": "markdown",
      "metadata": {
        "id": "iO78z2q9BMrB"
      },
      "source": [
        "As palavras **frequência** e **observações** não conseguiram ser traduzidas de uma forma boa o suficiente, o que nos faz pensar que o Tesseract está com algum problema e vamos verificar quais as listas de línguas que estão instaladas atualmente no sistema para auxiliar na leitura das nossas imagens, para isso usamos:\n",
        "\n",
        "```\n",
        "!tesseract --list-langs\n",
        "```"
      ]
    },
    {
      "cell_type": "code",
      "execution_count": null,
      "metadata": {
        "id": "gy94FE6sBReZ"
      },
      "outputs": [],
      "source": [
        "# !sudo apt install tesseract-ocr-por"
      ]
    },
    {
      "cell_type": "code",
      "execution_count": null,
      "metadata": {},
      "outputs": [],
      "source": [
        "# import os\n",
        "# os.environ['TESSDATA_PREFIX'] = '../../tessdata/'"
      ]
    },
    {
      "cell_type": "markdown",
      "metadata": {},
      "source": [
        "```\n",
        "# PORTUGUÊS\n",
        "# ---------\n",
        "wget -O ./tessdata/por.traineddata https://github.com/tesseract-ocr/tessdata/blob/main/por.traineddata?raw=true\n",
        "```\n",
        "ou\n",
        "```\n",
        "# English\n",
        "# ---------\n",
        "wget -O ./tessdata/eng.traineddata https://github.com/tesseract-ocr/tessdata/blob/main/eng.traineddata?raw=true\n",
        "```"
      ]
    },
    {
      "cell_type": "code",
      "execution_count": null,
      "metadata": {
        "id": "HXoGMNkbBU2B"
      },
      "outputs": [],
      "source": [
        "config_tesseract = f'--tessdata-dir {os.environ[\"TESSDATA_PREFIX\"]}'\n",
        "texto = pytesseract.image_to_string(rgb, lang='por', config=config_tesseract)\n",
        "print(texto)"
      ]
    },
    {
      "cell_type": "code",
      "execution_count": null,
      "metadata": {
        "id": "Kaj4gUMgBUuQ"
      },
      "outputs": [],
      "source": []
    },
    {
      "cell_type": "markdown",
      "metadata": {
        "id": "LJBIyU2qBT3x"
      },
      "source": [
        "Agora já temos o português instalado e podemos passar novamente a imagem e definir que ela seja \"lida\" pelo Tesseract usando o português, para isso contamos com o  método `lang`."
      ]
    },
    {
      "cell_type": "code",
      "execution_count": null,
      "metadata": {
        "id": "9uexltTiBWnQ"
      },
      "outputs": [],
      "source": []
    },
    {
      "cell_type": "markdown",
      "metadata": {
        "id": "4VvkoKX2-ynY"
      },
      "source": [
        "## PSM"
      ]
    },
    {
      "cell_type": "markdown",
      "metadata": {
        "id": "dG8xOFPsBZ1Y"
      },
      "source": [
        "Page Segmentation Mode (PSM) ou em uma tradução livre modos de segmentação de página."
      ]
    },
    {
      "cell_type": "code",
      "execution_count": null,
      "metadata": {
        "id": "WzYzkfXl-0r_"
      },
      "outputs": [],
      "source": [
        "!tesseract --help-psm"
      ]
    },
    {
      "cell_type": "code",
      "execution_count": null,
      "metadata": {},
      "outputs": [],
      "source": [
        "img = cv2.imread('../../Imagens/Aula2-trecho-livro.png')\n",
        "cv2.imshow('Aula 1', img)\n",
        "cv2.waitKey(0)\n",
        "cv2.destroyAllWindows()"
      ]
    },
    {
      "cell_type": "code",
      "execution_count": null,
      "metadata": {},
      "outputs": [],
      "source": [
        "config_tesseract = f'--tessdata-dir {os.environ[\"TESSDATA_PREFIX\"]} --psm 6'\n",
        "texto = pytesseract.image_to_string(img, lang='por', config=config_tesseract)\n",
        "print(texto)"
      ]
    },
    {
      "cell_type": "code",
      "execution_count": null,
      "metadata": {},
      "outputs": [],
      "source": [
        "img = cv2.imread('../../Imagens/Aula2-Saida.png')\n",
        "# rgb = cv2.cvtColor(img, cv2.COLOR_BGR2HSV_FULL )\n",
        "config_tesseract = f'--tessdata-dir {os.environ[\"TESSDATA_PREFIX\"]} --psm 7'\n",
        "texto = pytesseract.image_to_string(rgb, lang='por', config=config_tesseract)\n",
        "print(texto)"
      ]
    },
    {
      "cell_type": "code",
      "execution_count": null,
      "metadata": {},
      "outputs": [],
      "source": [
        "img = cv2.imread('../../Imagens/Aula2_NotaFiscalExercicio.png')\n",
        "rgb = cv2.cvtColor(img, cv2.COLOR_BGR2RGB)\n",
        "\n",
        "config_tesseract = f'--tessdata-dir {os.environ[\"TESSDATA_PREFIX\"]} --psm 4'\n",
        "texto = pytesseract.image_to_string(rgb, lang='por', config=config_tesseract)\n",
        "print(texto)"
      ]
    },
    {
      "cell_type": "markdown",
      "metadata": {
        "id": "GtI86YTX-1FZ"
      },
      "source": [
        "## Biblioteca Pillow"
      ]
    },
    {
      "cell_type": "markdown",
      "metadata": {
        "id": "PD1RRqBRBogA"
      },
      "source": [
        "Biblioteca Pillow, que é mais conhecida pelo seu nome antigo, **PIL**: Python Imaging Library. "
      ]
    },
    {
      "cell_type": "code",
      "execution_count": null,
      "metadata": {
        "id": "1lvNslX7-4Kx"
      },
      "outputs": [],
      "source": []
    },
    {
      "cell_type": "code",
      "execution_count": null,
      "metadata": {},
      "outputs": [],
      "source": [
        "# config_tesseract = f'--tessdata-dir {os.environ[\"TESSDATA_PREFIX\"]}'\n",
        "\n",
        "img = Image.open(\"../../Imagens/Aula2-livro.png\")\n",
        "plt.imshow(img);"
      ]
    },
    {
      "cell_type": "markdown",
      "metadata": {
        "id": "qEIHWaAxB3Lp"
      },
      "source": [
        "**Método utilizado:**\n",
        "\n",
        "```\n",
        "pytesseract.image_to_osd()\n",
        "```\n",
        "\n",
        "\n",
        "OSD significa Orientation and Script Detection e o seu retorno são os \"metadados\" da imagem."
      ]
    },
    {
      "cell_type": "code",
      "execution_count": null,
      "metadata": {
        "id": "SMpoDzPrB205"
      },
      "outputs": [],
      "source": [
        "# print(pytesseract.image_to_osd(img))"
      ]
    },
    {
      "cell_type": "markdown",
      "metadata": {
        "id": "A4GkqaOh-4uf"
      },
      "source": [
        "# Aula 3"
      ]
    },
    {
      "cell_type": "markdown",
      "metadata": {
        "id": "t51r251C-7bZ"
      },
      "source": [
        "## Selecionando textos"
      ]
    },
    {
      "cell_type": "code",
      "execution_count": null,
      "metadata": {
        "id": "MiNKzvOb-5fN"
      },
      "outputs": [],
      "source": [
        "# from pytesseract import Output\n",
        "\n",
        "img = cv2.imread('../../Imagens/Aula3-testando.png')\n",
        "# cv2.imshow('Aula 3', img)\n",
        "# cv2.waitKey(0)\n",
        "# cv2.destroyAllWindows()\n",
        "\n",
        "rgb = cv2.cvtColor(img, cv2.COLOR_BGR2RGB)\n",
        "\n",
        "config_tesseract = f'--tessdata-dir {os.environ[\"TESSDATA_PREFIX\"]}'\n",
        "resultado = pytesseract.image_to_data(rgb, config=config_tesseract, lang='por', output_type=pytesseract.Output.DICT)\n",
        "resultado\n",
        "# texto     = pytesseract.image_to_string(rgb, lang='por', config=config_tesseract, output_type=pytesseract.Output.DICT)\n",
        "# print(texto)"
      ]
    },
    {
      "cell_type": "code",
      "execution_count": 2,
      "metadata": {},
      "outputs": [
        {
          "data": {
            "application/vnd.jupyter.widget-view+json": {
              "model_id": "5b14470a326048899a176b6a2af53e8f",
              "version_major": 2,
              "version_minor": 0
            },
            "text/plain": [
              "FloatSlider(value=40.0, description='min_conf')"
            ]
          },
          "metadata": {},
          "output_type": "display_data"
        },
        {
          "data": {
            "application/vnd.jupyter.widget-view+json": {
              "model_id": "37e852da58f047d4be6777d548799c8b",
              "version_major": 2,
              "version_minor": 0
            },
            "text/plain": [
              "FloatSlider(value=60.0, description='vermelho menor que: ')"
            ]
          },
          "metadata": {},
          "output_type": "display_data"
        },
        {
          "data": {
            "application/vnd.jupyter.widget-view+json": {
              "model_id": "608cd8a0d0a14d9ab12b24c21d0102b1",
              "version_major": 2,
              "version_minor": 0
            },
            "text/plain": [
              "FloatSlider(value=80.0, description='amarelo menor que: ')"
            ]
          },
          "metadata": {},
          "output_type": "display_data"
        }
      ],
      "source": [
        "min_conf_slider = widgets.FloatSlider(\n",
        "    value=40,\n",
        "    min=0,\n",
        "    max=100,\n",
        "    description='min_conf'\n",
        ")\n",
        "\n",
        "display(min_conf_slider)\n",
        "\n",
        "vermelho = widgets.FloatSlider(\n",
        "    value=60,\n",
        "    min=0,\n",
        "    max=100,\n",
        "    description='vermelho menor que: '\n",
        ")\n",
        "\n",
        "display(vermelho)\n",
        "\n",
        "amarelo = widgets.FloatSlider(\n",
        "    value=80,\n",
        "    min=0,\n",
        "    max=100,\n",
        "    description='amarelo menor que: '\n",
        ")\n",
        "\n",
        "display(amarelo)"
      ]
    },
    {
      "cell_type": "code",
      "execution_count": null,
      "metadata": {},
      "outputs": [],
      "source": [
        "print(min_conf_slider.value)"
      ]
    },
    {
      "cell_type": "markdown",
      "metadata": {
        "id": "K0-AVSC_-9DY"
      },
      "source": [
        "## Caixa delimitadora"
      ]
    },
    {
      "cell_type": "code",
      "execution_count": null,
      "metadata": {},
      "outputs": [],
      "source": [
        "fonte = '../../Imagens/calibri.ttf'\n",
        "\n",
        "def escreve_texto(texto, x, y, img, fonte, tamanho_texto=32):\n",
        "    fonte = ImageFont.truetype(fonte, tamanho_texto)\n",
        "    img_pil = Image.fromarray(img)\n",
        "    draw = ImageDraw.Draw(img_pil)\n",
        "    draw.text((x, y - tamanho_texto), texto, font = fonte, fill=(0,0,0))\n",
        "    img = np.array(img_pil)\n",
        "    return img\n",
        "\n",
        "def caixa_texto(resultado, img, i, valor, cor = (255, 100, 0)):\n",
        "    x = resultado['left'][i]\n",
        "    y = resultado['top'][i]\n",
        "    w = resultado['width'][i]\n",
        "    h = resultado['height'][i]\n",
        "\n",
        "    cv2.rectangle(img, (x, y), (x+w, y+h), cor, 2)\n",
        "    \n",
        "    # # Defina a posição e texto que você deseja adicionar\n",
        "    texto = resultado['text'][i]\n",
        "    # posicao_texto = (x, y-10)\n",
        "\n",
        "    # Defina a fonte, escala, cor e espessura da linha\n",
        "    fonte = cv2.FONT_HERSHEY_SIMPLEX\n",
        "    escala = 0.5\n",
        "    cor_texto = (0, 0, 0)  # Preto\n",
        "    espessura = 1\n",
        "\n",
        "    # Adicione o texto à imagem\n",
        "    # cv2.putText(img, f'{valor}-{texto}', posicao_texto, fonte, escala, cor_texto, espessura)\n",
        "\n",
        "    return x, y, img, texto\n",
        "\n",
        "\n",
        "img_copia = rgb.copy()\n",
        "for i in range(len(resultado['text'])):\n",
        "    confianca = int(resultado['conf'][i])\n",
        "    if (confianca/100) > (min_conf_slider.value/100):\n",
        "        if (confianca/100) < (vermelho.value/100): #coloca a cor vermelha caso a confinça seja menor que 60%\n",
        "            cor = (255,0,0)\n",
        "        elif (confianca/100) < (amarelo.value/100): #coloca a cor amarela caso a confinça seja menor que 80%\n",
        "            cor = (255,255,0)\n",
        "        else:\n",
        "            cor = (0,255,0)\n",
        "             \n",
        "        x, y, img, texto = caixa_texto(resultado, img_copia, i, str((confianca/100)), cor)\n",
        "        texto_add = f'Confiança: {confianca/100}\\n Texto: {texto}'\n",
        "        img_copia = escreve_texto(texto_add, x, y-14, img, fonte, tamanho_texto=14)\n",
        "        \n",
        "plt.imshow(img_copia);"
      ]
    },
    {
      "cell_type": "markdown",
      "metadata": {
        "id": "tZxHtOvk_C6R"
      },
      "source": [
        "## Caixa e texto"
      ]
    },
    {
      "cell_type": "code",
      "execution_count": null,
      "metadata": {},
      "outputs": [],
      "source": []
    },
    {
      "cell_type": "markdown",
      "metadata": {
        "id": "1YQYiJH9_FZw"
      },
      "source": [
        "## Fontes"
      ]
    },
    {
      "cell_type": "code",
      "execution_count": null,
      "metadata": {
        "id": "G28w3094_GSv"
      },
      "outputs": [],
      "source": []
    },
    {
      "cell_type": "markdown",
      "metadata": {
        "id": "9Bi5OAK4_Gxw"
      },
      "source": [
        "## Função para fontes"
      ]
    },
    {
      "cell_type": "code",
      "execution_count": null,
      "metadata": {
        "id": "89BpagLP_Jtq"
      },
      "outputs": [],
      "source": []
    },
    {
      "cell_type": "markdown",
      "metadata": {
        "id": "4MT3_VA7_K0g"
      },
      "source": [
        "# Aula 4"
      ]
    },
    {
      "cell_type": "markdown",
      "metadata": {
        "id": "OR9quoIj_MH_"
      },
      "source": [
        "## Busca de informações"
      ]
    },
    {
      "cell_type": "code",
      "execution_count": 5,
      "metadata": {
        "id": "mXpshddg_LuM"
      },
      "outputs": [
        {
          "data": {
            "image/png": "[encoded data removed]",
            "text/plain": [
              "<Figure size 1000x800 with 1 Axes>"
            ]
          },
          "metadata": {},
          "output_type": "display_data"
        }
      ],
      "source": [
        "fonte = '../../Imagens/calibri.ttf'\n",
        "padrao_data = '^(0[1-9]|[12][0-9]|3[01])/(0[1-9]|1[012])/(19|20)\\d\\d$'\n",
        "\n",
        "img = cv2.imread(\"../../Imagens/Aula4-tabela_teste.png\")\n",
        "\n",
        "rgb = cv2.cvtColor(img, cv2.COLOR_BGR2RGB)\n",
        "\n",
        "config_tesseract = f'--tessdata-dir {os.environ[\"TESSDATA_PREFIX\"]}'\n",
        "resultado = pytesseract.image_to_data(rgb, config=config_tesseract, lang='por', output_type=pytesseract.Output.DICT)\n",
        "resultado\n",
        "\n",
        "\n",
        "# plt.imshow(rgb);\n",
        "\n",
        "fonte = '../../Imagens/calibri.ttf'\n",
        "\n",
        "def escreve_texto(texto, x, y, img, fonte, tamanho_texto=32):\n",
        "    fonte = ImageFont.truetype(fonte, tamanho_texto)\n",
        "    img_pil = Image.fromarray(img)\n",
        "    draw = ImageDraw.Draw(img_pil)\n",
        "    draw.text((x, y - tamanho_texto), texto, font = fonte, fill=(0,0,0))\n",
        "    img = np.array(img_pil)\n",
        "    return img\n",
        "\n",
        "def caixa_texto(resultado, img, i, valor, cor = (255, 100, 0)):\n",
        "    x = resultado['left'][i]\n",
        "    y = resultado['top'][i]\n",
        "    w = resultado['width'][i]\n",
        "    h = resultado['height'][i]\n",
        "\n",
        "    cv2.rectangle(img, (x, y), (x+w, y+h), cor, 2)\n",
        "    \n",
        "    # # Defina a posição e texto que você deseja adicionar\n",
        "    texto = resultado['text'][i]\n",
        "    # posicao_texto = (x, y-10)\n",
        "\n",
        "    # Defina a fonte, escala, cor e espessura da linha\n",
        "    fonte = cv2.FONT_HERSHEY_SIMPLEX\n",
        "    escala = 0.5\n",
        "    cor_texto = (0, 0, 0)  # Preto\n",
        "    espessura = 1\n",
        "\n",
        "    # Adicione o texto à imagem\n",
        "    # cv2.putText(img, f'{valor}-{texto}', posicao_texto, fonte, escala, cor_texto, espessura)\n",
        "\n",
        "    return x, y, img, texto\n",
        "\n",
        "\n",
        "img_copia = rgb.copy()\n",
        "for i in range(len(resultado['text'])):\n",
        "    confianca = int(resultado['conf'][i])\n",
        "    if (confianca/100) > (min_conf_slider.value/100):\n",
        "        if (confianca/100) < (vermelho.value/100): #coloca a cor vermelha caso a confinça seja menor que 60%\n",
        "            cor = (255,0,0)\n",
        "        elif (confianca/100) < (amarelo.value/100): #coloca a cor amarela caso a confinça seja menor que 80%\n",
        "            cor = (255,255,0)\n",
        "        else:\n",
        "            cor = (0,255,0)\n",
        "             \n",
        "        x, y, img, texto = caixa_texto(resultado, img_copia, i, str((confianca/100)), cor)\n",
        "        texto_add = f'Confiança: {confianca/100}\\n Texto: {texto}'\n",
        "        \n",
        "        if re.match(padrao_data, texto):\n",
        "            img_copia = escreve_texto(texto_add, x, y-14, img, fonte, tamanho_texto=14)\n",
        "        \n",
        "plt.figure(figsize=(10, 8))\n",
        "\n",
        "# Exiba a imagem na figura\n",
        "plt.imshow(img_copia)\n",
        "\n",
        "# Mostre a figura\n",
        "plt.show()"
      ]
    },
    {
      "cell_type": "markdown",
      "metadata": {
        "id": "f7lOZ5Rx_OMJ"
      },
      "source": [
        "## Destaque de informações"
      ]
    },
    {
      "cell_type": "code",
      "execution_count": null,
      "metadata": {
        "id": "5Tb_ZUSA_QmD"
      },
      "outputs": [],
      "source": []
    },
    {
      "cell_type": "markdown",
      "metadata": {
        "id": "-UhO6UaB_SXI"
      },
      "source": [
        "## Cenários naturais"
      ]
    },
    {
      "cell_type": "code",
      "execution_count": null,
      "metadata": {
        "id": "9eIfXbH-_TEv"
      },
      "outputs": [],
      "source": []
    },
    {
      "cell_type": "markdown",
      "metadata": {
        "id": "tNFTsqVT_XOA"
      },
      "source": [
        "## Falsos positivos"
      ]
    },
    {
      "cell_type": "code",
      "execution_count": null,
      "metadata": {
        "id": "9YIykI9e_X50"
      },
      "outputs": [],
      "source": []
    }
  ],
  "metadata": {
    "colab": {
      "collapsed_sections": [
        "c0r-LVU7-g1g",
        "B39If7Dp-l0g",
        "G6tCg9jU-tKv",
        "4VvkoKX2-ynY",
        "GtI86YTX-1FZ",
        "A4GkqaOh-4uf",
        "4MT3_VA7_K0g"
      ],
      "name": "Reconhecimento de texto com OCR.ipynb",
      "provenance": []
    },
    "kernelspec": {
      "display_name": "Python 3",
      "name": "python3"
    },
    "language_info": {
      "codemirror_mode": {
        "name": "ipython",
        "version": 3
      },
      "file_extension": ".py",
      "mimetype": "text/x-python",
      "name": "python",
      "nbconvert_exporter": "python",
      "pygments_lexer": "ipython3",
      "version": "3.11.2"
    }
  },
  "nbformat": 4,
  "nbformat_minor": 0
}
