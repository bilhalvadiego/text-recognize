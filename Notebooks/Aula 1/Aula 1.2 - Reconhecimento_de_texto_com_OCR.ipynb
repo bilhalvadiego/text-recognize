{
  "cells": [
    {
      "cell_type": "markdown",
      "metadata": {
        "id": "e7dDH6Ar-pMA"
      },
      "source": [
        "# Aula 1"
      ]
    },
    {
      "cell_type": "markdown",
      "metadata": {
        "id": "Njk5DLzl9NKx"
      },
      "source": [
        "## Introdução ao OCR"
      ]
    },
    {
      "cell_type": "markdown",
      "metadata": {
        "id": "IOIzx6fz9hq4"
      },
      "source": [
        "### Como o OCR funciona?\n",
        "* Aquisição da imagem\n",
        "* Pré-processamento\n",
        "* Reconhecimento de texto\n",
        "  - Reconhecimento de padrões\n",
        "  - Detecção de recursos\n",
        "* Pós-processamento\n",
        "\n",
        "\n",
        "\n",
        "Existem diversas ferramentas disponíveis para serem utilizadas e nós vamos utilizar o [`pytesseract`](https://pypi.org/project/pytesseract/), que é uma biblioteca do Python que permite com que possamos utilizar o [`Tesseract OCR`](https://tesseract-ocr.github.io/), que é um recurso open source da Google e funciona com a OCR Engine. Por ser um recurso open source tem um [`repositório no GitHub`](https://github.com/tesseract-ocr/tesseract), e mais de 100 línguas no seu vocabulário, além de ser possível fazer com que ele aprenda novas linguagens."
      ]
    },
    {
      "cell_type": "markdown",
      "metadata": {
        "id": "c0r-LVU7-g1g"
      },
      "source": [
        "## OCR no Colab"
      ]
    },
    {
      "cell_type": "markdown",
      "metadata": {
        "id": "9vxBYYllAYcI"
      },
      "source": [
        "As bibliotecas não são instaladas previamente no Google Colaboratory, então é necessário que a instalação seja feita utilizando o pip.\n",
        "\n",
        "\n",
        "\n",
        "```\n",
        "!pip install opencv-python==4.6.0\n",
        "!sudo apt install tesseract-ocr\n",
        "!pip install pytesseract==0.3.9\n",
        "```\n",
        "\n",
        "E os dados utilizados no curso serão importados utilizando o `!git clone` da pasta [`text-recognize`](https://github.com/sthemonica/text-recognize), afim de facilitar a importação de arquivos."
      ]
    },
    {
      "cell_type": "code",
      "execution_count": 1,
      "metadata": {
        "id": "uB-CVU3G1Irn"
      },
      "outputs": [
        {
          "ename": "ModuleNotFoundError",
          "evalue": "No module named 'pandas'",
          "output_type": "error",
          "traceback": [
            "\u001b[0;31m---------------------------------------------------------------------------\u001b[0m",
            "\u001b[0;31mModuleNotFoundError\u001b[0m                       Traceback (most recent call last)",
            "\u001b[1;32m/home/bilhalvadiego/Documents/code-repos/text-recognize/Notebooks/Aula 1/Aula 1.2 - Reconhecimento_de_texto_com_OCR.ipynb Cell 6\u001b[0m line \u001b[0;36m1\n\u001b[0;32m----> <a href='vscode-notebook-cell:/home/bilhalvadiego/Documents/code-repos/text-recognize/Notebooks/Aula%201/Aula%201.2%20-%20Reconhecimento_de_texto_com_OCR.ipynb#W5sZmlsZQ%3D%3D?line=0'>1</a>\u001b[0m \u001b[39mimport\u001b[39;00m \u001b[39mpandas\u001b[39;00m \u001b[39mas\u001b[39;00m \u001b[39mpd\u001b[39;00m\n",
            "\u001b[0;31mModuleNotFoundError\u001b[0m: No module named 'pandas'"
          ]
        }
      ],
      "source": []
    },
    {
      "cell_type": "markdown",
      "metadata": {
        "id": "B39If7Dp-l0g"
      },
      "source": [
        "## Imagens BGR\n"
      ]
    },
    {
      "cell_type": "markdown",
      "metadata": {
        "id": "MUnRsSCNAPqH"
      },
      "source": [
        "O OpenCV tem seus canais de cores invertidos, então para utilizarmos com outras bibliotecas precisamos fazer a conversão de BGR para RGB. \n",
        "Existem outros tipos de conversões que podem ser feitas e a lista pode ser acessada no site da [documentação do OpenCV](https://docs.opencv.org/3.4/d8/d01/group__imgproc__color__conversions.html)."
      ]
    },
    {
      "cell_type": "code",
      "execution_count": null,
      "metadata": {
        "id": "YeGbFPSf-n7H"
      },
      "outputs": [],
      "source": []
    },
    {
      "cell_type": "markdown",
      "metadata": {
        "id": "vXZn2Kg0-rxw"
      },
      "source": [
        "# Aula 2"
      ]
    },
    {
      "cell_type": "markdown",
      "metadata": {
        "id": "G6tCg9jU-tKv"
      },
      "source": [
        "## Caracteres diferentes"
      ]
    },
    {
      "cell_type": "code",
      "execution_count": null,
      "metadata": {
        "id": "FFaj5yKM-swz"
      },
      "outputs": [],
      "source": []
    },
    {
      "cell_type": "code",
      "execution_count": null,
      "metadata": {
        "id": "9b_EuBErBMXQ"
      },
      "outputs": [],
      "source": []
    },
    {
      "cell_type": "markdown",
      "metadata": {
        "id": "iO78z2q9BMrB"
      },
      "source": [
        "As palavras **frequência** e **observações** não conseguiram ser traduzidas de uma forma boa o suficiente, o que nos faz pensar que o Tesseract está com algum problema e vamos verificar quais as listas de línguas que estão instaladas atualmente no sistema para auxiliar na leitura das nossas imagens, para isso usamos:\n",
        "\n",
        "```\n",
        "!tesseract --list-langs\n",
        "```"
      ]
    },
    {
      "cell_type": "code",
      "execution_count": null,
      "metadata": {
        "id": "gy94FE6sBReZ"
      },
      "outputs": [],
      "source": []
    },
    {
      "cell_type": "code",
      "execution_count": null,
      "metadata": {
        "id": "HXoGMNkbBU2B"
      },
      "outputs": [],
      "source": []
    },
    {
      "cell_type": "code",
      "execution_count": null,
      "metadata": {
        "id": "Kaj4gUMgBUuQ"
      },
      "outputs": [],
      "source": []
    },
    {
      "cell_type": "markdown",
      "metadata": {
        "id": "LJBIyU2qBT3x"
      },
      "source": [
        "Agora já temos o português instalado e podemos passar novamente a imagem e definir que ela seja \"lida\" pelo Tesseract usando o português, para isso contamos com o  método `lang`."
      ]
    },
    {
      "cell_type": "code",
      "execution_count": null,
      "metadata": {
        "id": "9uexltTiBWnQ"
      },
      "outputs": [],
      "source": []
    },
    {
      "cell_type": "markdown",
      "metadata": {
        "id": "4VvkoKX2-ynY"
      },
      "source": [
        "## PSM"
      ]
    },
    {
      "cell_type": "markdown",
      "metadata": {
        "id": "dG8xOFPsBZ1Y"
      },
      "source": [
        "Page Segmentation Mode (PSM) ou em uma tradução livre modos de segmentação de página."
      ]
    },
    {
      "cell_type": "code",
      "execution_count": null,
      "metadata": {
        "id": "WzYzkfXl-0r_"
      },
      "outputs": [],
      "source": []
    },
    {
      "cell_type": "markdown",
      "metadata": {
        "id": "GtI86YTX-1FZ"
      },
      "source": [
        "## Biblioteca Pillow"
      ]
    },
    {
      "cell_type": "markdown",
      "metadata": {
        "id": "PD1RRqBRBogA"
      },
      "source": [
        "Biblioteca Pillow, que é mais conhecida pelo seu nome antigo, **PIL**: Python Imaging Library. "
      ]
    },
    {
      "cell_type": "code",
      "execution_count": null,
      "metadata": {
        "id": "1lvNslX7-4Kx"
      },
      "outputs": [],
      "source": []
    },
    {
      "cell_type": "markdown",
      "metadata": {
        "id": "qEIHWaAxB3Lp"
      },
      "source": [
        "**Método utilizado:**\n",
        "\n",
        "```\n",
        "pytesseract.image_to_osd()\n",
        "```\n",
        "\n",
        "\n",
        "OSD significa Orientation and Script Detection e o seu retorno são os \"metadados\" da imagem."
      ]
    },
    {
      "cell_type": "code",
      "execution_count": null,
      "metadata": {
        "id": "SMpoDzPrB205"
      },
      "outputs": [],
      "source": []
    },
    {
      "cell_type": "markdown",
      "metadata": {
        "id": "A4GkqaOh-4uf"
      },
      "source": [
        "# Aula 3"
      ]
    },
    {
      "cell_type": "markdown",
      "metadata": {
        "id": "t51r251C-7bZ"
      },
      "source": [
        "## Selecionando textos"
      ]
    },
    {
      "cell_type": "code",
      "execution_count": null,
      "metadata": {
        "id": "MiNKzvOb-5fN"
      },
      "outputs": [],
      "source": []
    },
    {
      "cell_type": "markdown",
      "metadata": {
        "id": "K0-AVSC_-9DY"
      },
      "source": [
        "## Caixa delimitadora"
      ]
    },
    {
      "cell_type": "code",
      "execution_count": null,
      "metadata": {
        "id": "faCMB9Vi_BPH"
      },
      "outputs": [],
      "source": []
    },
    {
      "cell_type": "markdown",
      "metadata": {
        "id": "tZxHtOvk_C6R"
      },
      "source": [
        "## Caixa e texto"
      ]
    },
    {
      "cell_type": "code",
      "execution_count": null,
      "metadata": {
        "id": "L72zCfZ8_EZQ"
      },
      "outputs": [],
      "source": []
    },
    {
      "cell_type": "markdown",
      "metadata": {
        "id": "1YQYiJH9_FZw"
      },
      "source": [
        "## Fontes"
      ]
    },
    {
      "cell_type": "code",
      "execution_count": null,
      "metadata": {
        "id": "G28w3094_GSv"
      },
      "outputs": [],
      "source": []
    },
    {
      "cell_type": "markdown",
      "metadata": {
        "id": "9Bi5OAK4_Gxw"
      },
      "source": [
        "## Função para fontes"
      ]
    },
    {
      "cell_type": "code",
      "execution_count": null,
      "metadata": {
        "id": "89BpagLP_Jtq"
      },
      "outputs": [],
      "source": []
    },
    {
      "cell_type": "markdown",
      "metadata": {
        "id": "4MT3_VA7_K0g"
      },
      "source": [
        "# Aula 4"
      ]
    },
    {
      "cell_type": "markdown",
      "metadata": {
        "id": "OR9quoIj_MH_"
      },
      "source": [
        "## Busca de informações"
      ]
    },
    {
      "cell_type": "code",
      "execution_count": null,
      "metadata": {
        "id": "mXpshddg_LuM"
      },
      "outputs": [],
      "source": []
    },
    {
      "cell_type": "markdown",
      "metadata": {
        "id": "f7lOZ5Rx_OMJ"
      },
      "source": [
        "## Destaque de informações"
      ]
    },
    {
      "cell_type": "code",
      "execution_count": null,
      "metadata": {
        "id": "5Tb_ZUSA_QmD"
      },
      "outputs": [],
      "source": []
    },
    {
      "cell_type": "markdown",
      "metadata": {
        "id": "-UhO6UaB_SXI"
      },
      "source": [
        "## Cenários naturais"
      ]
    },
    {
      "cell_type": "code",
      "execution_count": null,
      "metadata": {
        "id": "9eIfXbH-_TEv"
      },
      "outputs": [],
      "source": []
    },
    {
      "cell_type": "markdown",
      "metadata": {
        "id": "tNFTsqVT_XOA"
      },
      "source": [
        "## Falsos positivos"
      ]
    },
    {
      "cell_type": "code",
      "execution_count": null,
      "metadata": {
        "id": "9YIykI9e_X50"
      },
      "outputs": [],
      "source": []
    }
  ],
  "metadata": {
    "colab": {
      "collapsed_sections": [
        "c0r-LVU7-g1g",
        "B39If7Dp-l0g",
        "G6tCg9jU-tKv",
        "4VvkoKX2-ynY",
        "GtI86YTX-1FZ",
        "A4GkqaOh-4uf",
        "4MT3_VA7_K0g"
      ],
      "name": "Reconhecimento de texto com OCR.ipynb",
      "provenance": []
    },
    "kernelspec": {
      "display_name": "Python 3",
      "name": "python3"
    },
    "language_info": {
      "codemirror_mode": {
        "name": "ipython",
        "version": 3
      },
      "file_extension": ".py",
      "mimetype": "text/x-python",
      "name": "python",
      "nbconvert_exporter": "python",
      "pygments_lexer": "ipython3",
      "version": "3.11.2"
    }
  },
  "nbformat": 4,
  "nbformat_minor": 0
}
